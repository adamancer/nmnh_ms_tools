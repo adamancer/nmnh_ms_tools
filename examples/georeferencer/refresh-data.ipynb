{
 "cells": [
  {
   "cell_type": "code",
   "execution_count": 1,
   "id": "8a337f3e-b2a2-4110-9b73-11192616d19b",
   "metadata": {},
   "outputs": [],
   "source": [
    "from pathlib import Path\n",
    "\n",
    "from sqlalchemy.pool import NullPool\n",
    "\n",
    "from nmnh_ms_tools.config import CONFIG, GEOCONFIG\n",
    "from nmnh_ms_tools.databases.admin import (\n",
    "    AdminFeatures,\n",
    "    init_db as init_admin_db,\n",
    ")\n",
    "from nmnh_ms_tools.databases.custom import (\n",
    "    CustomFeatures,\n",
    "    init_db as init_custom_db,\n",
    ")\n",
    "from nmnh_ms_tools.databases.geonames import (\n",
    "    GeoNamesFeatures,\n",
    "    init_db as init_geonames_db,\n",
    ")\n",
    "from nmnh_ms_tools.databases.geohelper import (\n",
    "    fill_ocean_table,\n",
    "    fill_natural_earth_combined_table,\n",
    "    fill_alternative_polygons_table,\n",
    "    init_db as init_helper_db,\n",
    ")\n",
    "from nmnh_ms_tools.databases.natural_earth import (\n",
    "    init_db as init_natural_earth_db,\n",
    ")\n",
    "from nmnh_ms_tools.utils import configure_log\n",
    "\n",
    "configure_log(level=\"DEBUG\")"
   ]
  },
  {
   "cell_type": "code",
   "execution_count": 2,
   "id": "66d85b65-dacc-46aa-99e3-7d2d37e49cfd",
   "metadata": {},
   "outputs": [],
   "source": [
    "# Create the main GeoNames database\n",
    "try:\n",
    "    open(CONFIG[\"data\"][\"geonames\"])\n",
    "except FileNotFoundError:\n",
    "    init_geonames_db(poolclass=NullPool)\n",
    "    GeoNamesFeatures().from_csv(r\"data/sources/allCountries.txt\")"
   ]
  },
  {
   "cell_type": "code",
   "execution_count": 3,
   "id": "84db7f67-7cdc-41da-aaad-2bbd8107983f",
   "metadata": {},
   "outputs": [],
   "source": [
    "# Create the administrative division database\n",
    "try:\n",
    "    open(CONFIG[\"data\"][\"admin\"])\n",
    "except FileNotFoundError:\n",
    "    init_admin_db(poolclass=NullPool)\n",
    "    AdminFeatures().from_csv(r\"data/sources/allCountries.txt\")\n",
    "else:\n",
    "    init_admin_db()"
   ]
  },
  {
   "cell_type": "code",
   "execution_count": 4,
   "id": "191b28e6-e728-4256-82a2-5426004a979c",
   "metadata": {},
   "outputs": [],
   "source": [
    "# Create the georeferencing helper database\n",
    "try:\n",
    "    open(CONFIG[\"data\"][\"geohelper\"])\n",
    "except FileNotFoundError:\n",
    "    init_natural_earth_db(\"data/sources/natural_earth_vector.sqlite\", poolclass=NullPool)\n",
    "    init_helper_db(poolclass=NullPool)\n",
    "    fill_ocean_table()\n",
    "    fill_natural_earth_combined_table()\n",
    "    fill_alternative_polygons_table()"
   ]
  },
  {
   "cell_type": "code",
   "execution_count": 5,
   "id": "504ad136-a0b4-4b40-a13c-12a5b6147599",
   "metadata": {},
   "outputs": [
    {
     "name": "stdout",
     "output_type": "stream",
     "text": [
      "data\\sources\\custom\\aapg-provinces.csv\n"
     ]
    },
    {
     "name": "stderr",
     "output_type": "stream",
     "text": [
      "2024-06-27 18:31:59,066 - nmnh_ms_tools.databases.geonames.geonames_features - DEBUG - 120 records processed\n",
      "2024-06-27 18:31:59,146 - nmnh_ms_tools.databases.geonames.geonames_features - DEBUG - Dropped index 'idx_alt_continents'\n",
      "2024-06-27 18:31:59,206 - nmnh_ms_tools.databases.geonames.geonames_features - DEBUG - Created index 'idx_alt_continents'\n",
      "2024-06-27 18:31:59,230 - nmnh_ms_tools.databases.geonames.geonames_features - DEBUG - Dropped index 'idx_alt_ids'\n",
      "2024-06-27 18:31:59,246 - nmnh_ms_tools.databases.geonames.geonames_features - DEBUG - Created index 'idx_alt_ids'\n",
      "2024-06-27 18:31:59,264 - nmnh_ms_tools.databases.geonames.geonames_features - DEBUG - Dropped index 'idx_alt_oceans'\n",
      "2024-06-27 18:31:59,276 - nmnh_ms_tools.databases.geonames.geonames_features - DEBUG - Created index 'idx_alt_oceans'\n",
      "2024-06-27 18:31:59,296 - nmnh_ms_tools.databases.geonames.geonames_features - DEBUG - Dropped index 'idx_alt_primary'\n",
      "2024-06-27 18:31:59,326 - nmnh_ms_tools.databases.geonames.geonames_features - DEBUG - Created index 'idx_alt_primary'\n",
      "2024-06-27 18:31:59,346 - nmnh_ms_tools.databases.geonames.geonames_features - DEBUG - Dropped index 'idx_alt_primary2'\n",
      "2024-06-27 18:31:59,386 - nmnh_ms_tools.databases.geonames.geonames_features - DEBUG - Created index 'idx_alt_primary2'\n"
     ]
    },
    {
     "name": "stdout",
     "output_type": "stream",
     "text": [
      "data\\sources\\custom\\custom-localities.csv\n"
     ]
    },
    {
     "name": "stderr",
     "output_type": "stream",
     "text": [
      "2024-06-27 18:31:59,686 - nmnh_ms_tools.databases.geonames.geonames_features - DEBUG - 15 records processed\n",
      "2024-06-27 18:31:59,751 - nmnh_ms_tools.databases.geonames.geonames_features - DEBUG - Dropped index 'idx_alt_continents'\n",
      "2024-06-27 18:31:59,767 - nmnh_ms_tools.databases.geonames.geonames_features - DEBUG - Created index 'idx_alt_continents'\n",
      "2024-06-27 18:31:59,776 - nmnh_ms_tools.databases.geonames.geonames_features - DEBUG - Dropped index 'idx_alt_ids'\n",
      "2024-06-27 18:31:59,796 - nmnh_ms_tools.databases.geonames.geonames_features - DEBUG - Created index 'idx_alt_ids'\n",
      "2024-06-27 18:31:59,806 - nmnh_ms_tools.databases.geonames.geonames_features - DEBUG - Dropped index 'idx_alt_oceans'\n",
      "2024-06-27 18:31:59,816 - nmnh_ms_tools.databases.geonames.geonames_features - DEBUG - Created index 'idx_alt_oceans'\n",
      "2024-06-27 18:31:59,846 - nmnh_ms_tools.databases.geonames.geonames_features - DEBUG - Dropped index 'idx_alt_primary'\n",
      "2024-06-27 18:31:59,866 - nmnh_ms_tools.databases.geonames.geonames_features - DEBUG - Created index 'idx_alt_primary'\n",
      "2024-06-27 18:31:59,878 - nmnh_ms_tools.databases.geonames.geonames_features - DEBUG - Dropped index 'idx_alt_primary2'\n",
      "2024-06-27 18:31:59,906 - nmnh_ms_tools.databases.geonames.geonames_features - DEBUG - Created index 'idx_alt_primary2'\n"
     ]
    },
    {
     "name": "stdout",
     "output_type": "stream",
     "text": [
      "data\\sources\\custom\\gvp-volcanoes.csv\n"
     ]
    },
    {
     "name": "stderr",
     "output_type": "stream",
     "text": [
      "2024-06-27 18:32:05,441 - nmnh_ms_tools.databases.geonames.geonames_features - DEBUG - 2,611 records processed\n",
      "2024-06-27 18:32:05,731 - nmnh_ms_tools.databases.geonames.geonames_features - DEBUG - Dropped index 'idx_alt_continents'\n",
      "2024-06-27 18:32:05,754 - nmnh_ms_tools.databases.geonames.geonames_features - DEBUG - Created index 'idx_alt_continents'\n",
      "2024-06-27 18:32:05,761 - nmnh_ms_tools.databases.geonames.geonames_features - DEBUG - Dropped index 'idx_alt_ids'\n",
      "2024-06-27 18:32:05,776 - nmnh_ms_tools.databases.geonames.geonames_features - DEBUG - Created index 'idx_alt_ids'\n",
      "2024-06-27 18:32:05,781 - nmnh_ms_tools.databases.geonames.geonames_features - DEBUG - Dropped index 'idx_alt_oceans'\n",
      "2024-06-27 18:32:05,796 - nmnh_ms_tools.databases.geonames.geonames_features - DEBUG - Created index 'idx_alt_oceans'\n",
      "2024-06-27 18:32:05,821 - nmnh_ms_tools.databases.geonames.geonames_features - DEBUG - Dropped index 'idx_alt_primary'\n",
      "2024-06-27 18:32:05,842 - nmnh_ms_tools.databases.geonames.geonames_features - DEBUG - Created index 'idx_alt_primary'\n",
      "2024-06-27 18:32:05,871 - nmnh_ms_tools.databases.geonames.geonames_features - DEBUG - Dropped index 'idx_alt_primary2'\n",
      "2024-06-27 18:32:05,901 - nmnh_ms_tools.databases.geonames.geonames_features - DEBUG - Created index 'idx_alt_primary2'\n"
     ]
    }
   ],
   "source": [
    "# Create custom locality database\n",
    "try:\n",
    "    open(CONFIG[\"data\"][\"custom\"])\n",
    "    raise FileNotFoundError\n",
    "except FileNotFoundError:\n",
    "    init_custom_db(poolclass=NullPool)\n",
    "    custom = CustomFeatures()\n",
    "    for path in Path(\"data/sources/custom\").glob(\"*.csv\"):\n",
    "        custom.from_csv(path)"
   ]
  }
 ],
 "metadata": {
  "kernelspec": {
   "display_name": "Python 3 (ipykernel)",
   "language": "python",
   "name": "python3"
  },
  "language_info": {
   "codemirror_mode": {
    "name": "ipython",
    "version": 3
   },
   "file_extension": ".py",
   "mimetype": "text/x-python",
   "name": "python",
   "nbconvert_exporter": "python",
   "pygments_lexer": "ipython3",
   "version": "3.12.4"
  }
 },
 "nbformat": 4,
 "nbformat_minor": 5
}
