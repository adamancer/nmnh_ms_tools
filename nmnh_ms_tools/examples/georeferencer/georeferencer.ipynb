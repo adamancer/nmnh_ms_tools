{
 "cells": [
  {
   "cell_type": "markdown",
   "id": "41d59881-eb3a-4b48-973a-db0377adf6a1",
   "metadata": {},
   "source": [
    "# Georeferencer Example\n",
    "\n",
    "This notebook provides an example of how to use the georeferencer module of the nmnh_ms_tools package. This application tries to emulate how a person might georeference a natural history record, based very loosely based on the [MaNIS georeferencing guidelines](http://georeferencing.org/manis/GeorefGuide.html) (or see here for an update to those guidelines [available on GBIF](https://docs.gbif.org/georeferencing-calculator-manual/1.0/en/). It is very much an unfinished product, but can produce decent results, particularly for relatively simple records. One thing it does that I think is nice is that it generates a description describing how the georeference was made, including citing the sources used to make the final determination.\n",
    "\n",
    "1. Install the nmn_ms_tools package using the instructions on the [main page of the repository](https://github.com/adamancer/nmnh_ms_tools)\n",
    "2. Navigate to the examples folder in the cloned repo. Make a copy of the georeferencer folder in a location of your choosing.\n",
    "3. In the folder you created in step 2, find the .nmtrc file and open it in a text editor. Depending on your OS, that file may be hidden. Add an email address and a GeoNames username (register [here](https://www.geonames.org/login) if you don't have one). The email address will be used to populate the user agent on API requests made by this application. The GeoNames username is required to access the webservices on that website.\n",
    "4. Download the following files and extract to data/databases under the georeferencer folder:\n",
    "    - allCountries.zip from https://download.geonames.org/export/dump/ (local copy of GeoNames to use for querying)\n",
    "    - natural_earth_vector.sqlite.zip from https://naciscdn.org/naturalearth/packages/ (Natural Earth polygons)\n",
    "5. Open and run the refresh-data.ipynb notebook. This notebook creates SQLite databases that will be used by the georeferencer. The GeoNames dump is almost 13 million records, so this will probably take a good long while to run.\n",
    "6. Run this notebook\n",
    "\n",
    "By default, this notebook uses a CSV file that is (in theory) used to test the georeferencer application. You can look at this file for hints about how to format other locality data. The location is printed out below. The format is otherwise undocumented but is based on Darwin Core.\n",
    "\n",
    "All data is EPSG:4326 unless otherwise noted.\n",
    "\n",
    "**If you are wary but curious,** try running the script on data that already include coordinates. This will give you some idea of the kind of error radii you can expect and help identify records that the application may struggle with. Feel free to report any disastrous results or bugs.\n",
    "\n"
   ]
  },
  {
   "cell_type": "code",
   "execution_count": null,
   "id": "3fc0a624-a362-4afa-af11-b49717c4b96b",
   "metadata": {},
   "outputs": [],
   "source": [
    "import csv\n",
    "import logging\n",
    "import os\n",
    "\n",
    "from nmnh_ms_tools.bots import Bot\n",
    "from nmnh_ms_tools.config import TEST_DIR\n",
    "from nmnh_ms_tools.databases.admin import init_db as init_admin_db\n",
    "from nmnh_ms_tools.databases.custom import init_db as init_custom_db\n",
    "from nmnh_ms_tools.databases.geohelper import init_db as init_geohelper_db\n",
    "from nmnh_ms_tools.databases.geonames import init_db as init_geonames_db\n",
    "from nmnh_ms_tools.databases.georef_job import (\n",
    "    init_db as init_geojob_db,\n",
    "    use_observed_uncertainties,\n",
    ")\n",
    "from nmnh_ms_tools.records import Site\n",
    "from nmnh_ms_tools.processes.georeferencer import Georeferencer\n",
    "from nmnh_ms_tools.processes.georeferencer.pipes import *\n",
    "from nmnh_ms_tools.utils import configure_log, skip_hashed\n",
    "from xmu import EMuReader, EMuRecord, write_import"
   ]
  },
  {
   "cell_type": "code",
   "execution_count": null,
   "id": "c0ce6b57-3744-4e1b-ae3d-0b9f79f2949c",
   "metadata": {},
   "outputs": [],
   "source": [
    "class GeoreferencerOnlyFilter(logging.Filter):\n",
    "    \"\"\"Limits log to messages from the georeferencer application\"\"\"\n",
    "    def filter(self, record):\n",
    "        return record.name.startswith(\"nmnh_ms_tools.processes.georeferencer\")\n",
    "\n",
    "# Unhash to enable log\n",
    "#configure_log(\"DEBUG\", filters=[GeoreferencerOnlyFilter()])"
   ]
  },
  {
   "cell_type": "code",
   "execution_count": null,
   "id": "d32ab799-ba43-4818-a003-0bc5c0c006b3",
   "metadata": {},
   "outputs": [],
   "source": [
    "# Set required class attributes\n",
    "Site.pipe = MatchGeoNames()\n",
    "\n",
    "# Update default uncertainties (broken)\n",
    "#init_geojob_db(r\"data/databases/uncertainties.sqlite\")\n",
    "#use_observed_uncertainties(percentile=50)\n",
    "\n",
    "# Initialize databases. Paths are defined in config.yml.\n",
    "init_admin_db()               # db for administrative divisions\n",
    "init_custom_db()              # db for custom features\n",
    "init_geohelper_db()           # db with helper tables, for example, with alternative polygons \n",
    "init_geonames_db()            # db with GeoNames places\n",
    "init_geojob_db(\"job.sqlite\")  # db with info about the current job\n",
    "\n",
    "# Pipes are used to handle different types of strings\n",
    "pipes = [\n",
    "    MatchManual(),     # captures manually georeferenced places\n",
    "    MatchPLSS(),       # section/township/range\n",
    "    MatchBetween(),    # for example, between A and B\n",
    "    MatchBorder(),     # for example, border of A and B\n",
    "    #MatchOffshore(),   # for example, offshore from A (broken)\n",
    "    MatchDirection(),  # for example, 1 km N of A\n",
    "    MatchCustom(),     # matches custom places\n",
    "    MatchGeoNames(),   # matches GeoNames places\n",
    "]\n",
    "\n",
    "# Set up tests\n",
    "tests = None\n",
    "\n",
    "# Enable caches\n",
    "if tests is None:\n",
    "    MatchGeoNames.enable_sqlite_cache(\"caches/records.sqlite\")\n",
    "    Site.enable_sqlite_cache(\"caches/localities.sqlite\")"
   ]
  },
  {
   "cell_type": "code",
   "execution_count": null,
   "id": "578d4aba-56aa-4e87-84bc-f50b05a18859",
   "metadata": {},
   "outputs": [],
   "source": [
    "# Load test records\n",
    "sites = []\n",
    "fp = os.path.join(TEST_DIR, \"test_georeferencer.csv\")\n",
    "print(f\"CSV: {fp}\")\n",
    "with open(fp, \"r\", encoding=\"utf-8-sig\", newline=\"\") as f:\n",
    "    for row in csv.DictReader(skip_hashed(f), dialect=\"excel\"):\n",
    "        sites.append(Site(row))"
   ]
  },
  {
   "cell_type": "code",
   "execution_count": null,
   "id": "7ff71692-a46c-4bdf-a15b-3f549dae165a",
   "metadata": {},
   "outputs": [],
   "source": [
    "# Set up georeferencer\n",
    "geo = Georeferencer([s.to_dict() for s in sites],\n",
    "                    pipes=pipes,\n",
    "                    tests=tests,\n",
    "                    skip=0,\n",
    "                    limit=200)\n",
    "\n",
    "geo.id_key = \"location_id\"        # key with the locality identifier \n",
    "geo.allow_sparse = True           # controls whether to georeference records with limited data\n",
    "geo.allow_invalid_coords = False  # controls whether to georeference records with bad coordinates\n",
    "geo.coord_type = \"any\"            # controls place type allowed (any, marine, or terrestrial)\n",
    "geo.place_type = \"any\"            # controls determinations allowed for existing coordinates (any, georeferenced, or measured)\n",
    "geo.require_coords = False        # controls whether coordinates must be present, for example, for QA\n",
    "geo.include_failed = True         # controls whether to include failed georeferences when reporting\n",
    "\n",
    "# Georeference ahoy!\n",
    "geo.georeference()"
   ]
  },
  {
   "cell_type": "code",
   "execution_count": null,
   "id": "8ad4f350-fbdb-4cb8-8d81-8d06874c7ec4",
   "metadata": {},
   "outputs": [],
   "source": [
    "with open(\"results.csv\", \"w\", encoding=\"utf-8-sig\", newline=\"\") as f:\n",
    "    writer = csv.DictWriter(f, [\"record_number\", \"geometry\", \"radius_km\", \"description\"])\n",
    "    writer.writeheader()\n",
    "    for result in geo.evaluated.values():\n",
    "        try:\n",
    "            geom = result[\"site\"].geometry.simplify().geom[0]\n",
    "            writer.writerow({\n",
    "                \"record_number\": result[\"location_id\"],\n",
    "                \"geometry\": str(geom),\n",
    "                \"radius_km\": result[\"radius_km\"],\n",
    "                \"description\": result[\"description\"],\n",
    "            })                \n",
    "        except KeyError:\n",
    "            pass"
   ]
  }
 ],
 "metadata": {
  "kernelspec": {
   "display_name": "Python 3 (ipykernel)",
   "language": "python",
   "name": "python3"
  },
  "language_info": {
   "codemirror_mode": {
    "name": "ipython",
    "version": 3
   },
   "file_extension": ".py",
   "mimetype": "text/x-python",
   "name": "python",
   "nbconvert_exporter": "python",
   "pygments_lexer": "ipython3",
   "version": "3.12.4"
  }
 },
 "nbformat": 4,
 "nbformat_minor": 5
}
